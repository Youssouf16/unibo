{
 "cells": [
  {
   "attachments": {},
   "cell_type": "markdown",
   "metadata": {},
   "source": [
    "Computing the correlation"
   ]
  },
  {
   "cell_type": "code",
   "execution_count": null,
   "metadata": {},
   "outputs": [],
   "source": [
    "# preparing the datasets\n",
    "import pandas as pd\n",
    "import pandas as pd\n",
    "import seaborn as sns\n",
    "import matplotlib.pyplot as plt\n",
    "from scipy.stats import zscore\n",
    "\n",
    "data_regions = pd.read_csv('data/rain_data.csv', index_col=0)\n",
    "data_tw = pd.read_csv('data/tweet_df_class.csv', index_col=0)\n",
    "data = data_regions.mean(axis=1)\n",
    "\n",
    "data.index = pd.to_datetime(data.index)\n",
    "data_tw = data_tw.set_index('Datetime')\n",
    "data_tw.index = pd.to_datetime(data_tw.index).date.astype('datetime64')"
   ]
  },
  {
   "cell_type": "code",
   "execution_count": null,
   "metadata": {},
   "outputs": [],
   "source": [
    "#making timeseries\n",
    "tweets = data_tw['class'].truncate(before='2022-03-29')\n",
    "tweets.name ='malaria instances'\n",
    "rain = data\n",
    "rain.name = 'rainfall'\n",
    "\n",
    "#changing period\n",
    "tweets_weekly = tweets.resample('W').sum()\n",
    "rain_weekly = rain.resample('W').mean()\n",
    "tweets_monthly = tweets.resample('M').sum()\n",
    "rain_monthly = rain.resample('M').mean()\n",
    "\n",
    "#lagging rainfalls\n",
    "rain_weekly_1 = rain_weekly.shift(1).truncate(before='2022-04-03').rename('rainfall+1')\n",
    "rain_weekly_2 = rain_weekly.shift(2).dropna().rename('rainfall+2')\n",
    "\n",
    "#create a single dataset and check the correlations\n",
    "months = pd.concat([tweets_monthly, rain_monthly], join='inner', axis=1)\n",
    "week = pd.concat([tweets_weekly, rain_weekly, rain_weekly_1, rain_weekly_2], join='inner', axis=1)\n",
    "pd.options.display.float_format = '{:,.2f}'.format\n",
    "print(week.corr().iloc[:, 0].rename('pearson correlation with malaria instances'), '\\n\\n')\n",
    "print(week.corr(method='spearman').iloc[:, 0].rename('spearman correlation with malaria instances'))"
   ]
  },
  {
   "attachments": {},
   "cell_type": "markdown",
   "metadata": {},
   "source": [
    "Creating barplots"
   ]
  },
  {
   "cell_type": "code",
   "execution_count": null,
   "metadata": {},
   "outputs": [],
   "source": [
    "# create the bar plot\n",
    "monthplot = sns.barplot(x=rain_monthly.index.month[:-1], y=rain_monthly.values[:-1], data=rain_monthly, color='blue')\n",
    "monthplot.set(xlabel='Months', ylabel='Rainfall in MM', title='Monthly rainfall')\n",
    "plt.show(monthplot)"
   ]
  },
  {
   "cell_type": "code",
   "execution_count": null,
   "metadata": {},
   "outputs": [],
   "source": [
    "# the graph for the tweets\n",
    "ax = sns.barplot(x=tweets_monthly.index.month, y=tweets_monthly.values, data=tweets_monthly, color= \"orange\")\n",
    "ax.set(xlabel='months', ylabel='malaria instances', title = \"malaria instances by months \")\n",
    "plt.show(ax)"
   ]
  },
  {
   "attachments": {},
   "cell_type": "markdown",
   "metadata": {},
   "source": [
    "Creating lineplots"
   ]
  },
  {
   "cell_type": "code",
   "execution_count": null,
   "metadata": {},
   "outputs": [],
   "source": [
    "fig, axs = plt.subplots(ncols=1)\n",
    "sns.lineplot(x=rain_weekly_1.index.week, y=zscore(rain_weekly_1.values), data=rain_weekly_1,lw=3)\n",
    "b = sns.lineplot(x=tweets_weekly.index.week, y=zscore(tweets_weekly.values), data=tweets_weekly, lw=3)\n",
    "b.set(xlabel='weeks', ylabel='malaria instance and precipitation in mm', title = \"trend in relation between malaria instance and precipitation records for 1 weeks before\")\n",
    "plt.legend(labels=['precipitation in mm','malaria instance'], facecolor='white')"
   ]
  },
  {
   "cell_type": "code",
   "execution_count": null,
   "metadata": {},
   "outputs": [],
   "source": [
    "fig, axs = plt.subplots(ncols=1)\n",
    "sns.lineplot(x=rain_weekly_2.index.week, y=zscore(rain_weekly_2.values), data=rain_weekly_1,lw=3)\n",
    "b = sns.lineplot(x=tweets_weekly.index.week, y=zscore(tweets_weekly.values), data=tweets_weekly, lw=3)\n",
    "b.set(xlabel='weeks', ylabel='malaria instance and precipitation in mm', title = \"trend in relation between malaria instance and precipitation records for 2 weeks before\")\n",
    "plt.legend(labels=['precipitation in mm','malaria instance'], facecolor='white')"
   ]
  },
  {
   "cell_type": "code",
   "execution_count": null,
   "metadata": {},
   "outputs": [],
   "source": [
    "e = sns.lineplot(data=zscore(months))\n",
    "e.set(xticklabels=months.index.month, title = \"trend in relation between malaria instance and precipitation records on the same months\")\n",
    "plt.show()"
   ]
  },
  {
   "cell_type": "code",
   "execution_count": 89,
   "metadata": {},
   "outputs": [
    {
     "ename": "AttributeError",
     "evalue": "'Rectangle' object has no property 'xticklabels'",
     "output_type": "error",
     "traceback": [
      "\u001b[1;31m---------------------------------------------------------------------------\u001b[0m",
      "\u001b[1;31mAttributeError\u001b[0m                            Traceback (most recent call last)",
      "\u001b[1;32mc:\\Users\\rober\\Desktop\\python_work\\project207\\correlations.ipynb Cell 11\u001b[0m in \u001b[0;36m<cell line: 1>\u001b[1;34m()\u001b[0m\n\u001b[1;32m----> <a href='vscode-notebook-cell:/c%3A/Users/rober/Desktop/python_work/project207/correlations.ipynb#X24sZmlsZQ%3D%3D?line=0'>1</a>\u001b[0m zscore(months)\u001b[39m.\u001b[39;49mplot\u001b[39m.\u001b[39;49mbar(sharex\u001b[39m=\u001b[39;49m\u001b[39mTrue\u001b[39;49;00m, sharey\u001b[39m=\u001b[39;49m\u001b[39mTrue\u001b[39;49;00m, grid\u001b[39m=\u001b[39;49m\u001b[39mTrue\u001b[39;49;00m, xticklabels\u001b[39m=\u001b[39;49mmonths\u001b[39m.\u001b[39;49mindex\u001b[39m.\u001b[39;49mmonth)\n\u001b[0;32m      <a href='vscode-notebook-cell:/c%3A/Users/rober/Desktop/python_work/project207/correlations.ipynb#X24sZmlsZQ%3D%3D?line=1'>2</a>\u001b[0m plt\u001b[39m.\u001b[39mset_xticks()\n",
      "File \u001b[1;32mc:\\Users\\rober\\AppData\\Local\\Programs\\Python\\Python310\\lib\\site-packages\\pandas\\plotting\\_core.py:1131\u001b[0m, in \u001b[0;36mPlotAccessor.bar\u001b[1;34m(self, x, y, **kwargs)\u001b[0m\n\u001b[0;32m   1043\u001b[0m \u001b[39m@Appender\u001b[39m(\n\u001b[0;32m   1044\u001b[0m     \u001b[39m\"\"\"\u001b[39;00m\n\u001b[0;32m   1045\u001b[0m \u001b[39m    See Also\u001b[39;00m\n\u001b[1;32m   (...)\u001b[0m\n\u001b[0;32m   1120\u001b[0m \u001b[39m@Appender\u001b[39m(_bar_or_line_doc)\n\u001b[0;32m   1121\u001b[0m \u001b[39mdef\u001b[39;00m \u001b[39mbar\u001b[39m(\u001b[39mself\u001b[39m, x\u001b[39m=\u001b[39m\u001b[39mNone\u001b[39;00m, y\u001b[39m=\u001b[39m\u001b[39mNone\u001b[39;00m, \u001b[39m*\u001b[39m\u001b[39m*\u001b[39mkwargs):\n\u001b[0;32m   1122\u001b[0m     \u001b[39m\"\"\"\u001b[39;00m\n\u001b[0;32m   1123\u001b[0m \u001b[39m    Vertical bar plot.\u001b[39;00m\n\u001b[0;32m   1124\u001b[0m \n\u001b[1;32m   (...)\u001b[0m\n\u001b[0;32m   1129\u001b[0m \u001b[39m    other axis represents a measured value.\u001b[39;00m\n\u001b[0;32m   1130\u001b[0m \u001b[39m    \"\"\"\u001b[39;00m\n\u001b[1;32m-> 1131\u001b[0m     \u001b[39mreturn\u001b[39;00m \u001b[39mself\u001b[39m(kind\u001b[39m=\u001b[39m\u001b[39m\"\u001b[39m\u001b[39mbar\u001b[39m\u001b[39m\"\u001b[39m, x\u001b[39m=\u001b[39mx, y\u001b[39m=\u001b[39my, \u001b[39m*\u001b[39m\u001b[39m*\u001b[39mkwargs)\n",
      "File \u001b[1;32mc:\\Users\\rober\\AppData\\Local\\Programs\\Python\\Python310\\lib\\site-packages\\pandas\\plotting\\_core.py:972\u001b[0m, in \u001b[0;36mPlotAccessor.__call__\u001b[1;34m(self, *args, **kwargs)\u001b[0m\n\u001b[0;32m    969\u001b[0m             label_name \u001b[39m=\u001b[39m label_kw \u001b[39mor\u001b[39;00m data\u001b[39m.\u001b[39mcolumns\n\u001b[0;32m    970\u001b[0m             data\u001b[39m.\u001b[39mcolumns \u001b[39m=\u001b[39m label_name\n\u001b[1;32m--> 972\u001b[0m \u001b[39mreturn\u001b[39;00m plot_backend\u001b[39m.\u001b[39mplot(data, kind\u001b[39m=\u001b[39mkind, \u001b[39m*\u001b[39m\u001b[39m*\u001b[39mkwargs)\n",
      "File \u001b[1;32mc:\\Users\\rober\\AppData\\Local\\Programs\\Python\\Python310\\lib\\site-packages\\pandas\\plotting\\_matplotlib\\__init__.py:71\u001b[0m, in \u001b[0;36mplot\u001b[1;34m(data, kind, **kwargs)\u001b[0m\n\u001b[0;32m     69\u001b[0m         kwargs[\u001b[39m\"\u001b[39m\u001b[39max\u001b[39m\u001b[39m\"\u001b[39m] \u001b[39m=\u001b[39m \u001b[39mgetattr\u001b[39m(ax, \u001b[39m\"\u001b[39m\u001b[39mleft_ax\u001b[39m\u001b[39m\"\u001b[39m, ax)\n\u001b[0;32m     70\u001b[0m plot_obj \u001b[39m=\u001b[39m PLOT_CLASSES[kind](data, \u001b[39m*\u001b[39m\u001b[39m*\u001b[39mkwargs)\n\u001b[1;32m---> 71\u001b[0m plot_obj\u001b[39m.\u001b[39;49mgenerate()\n\u001b[0;32m     72\u001b[0m plot_obj\u001b[39m.\u001b[39mdraw()\n\u001b[0;32m     73\u001b[0m \u001b[39mreturn\u001b[39;00m plot_obj\u001b[39m.\u001b[39mresult\n",
      "File \u001b[1;32mc:\\Users\\rober\\AppData\\Local\\Programs\\Python\\Python310\\lib\\site-packages\\pandas\\plotting\\_matplotlib\\core.py:329\u001b[0m, in \u001b[0;36mMPLPlot.generate\u001b[1;34m(self)\u001b[0m\n\u001b[0;32m    327\u001b[0m \u001b[39mself\u001b[39m\u001b[39m.\u001b[39m_compute_plot_data()\n\u001b[0;32m    328\u001b[0m \u001b[39mself\u001b[39m\u001b[39m.\u001b[39m_setup_subplots()\n\u001b[1;32m--> 329\u001b[0m \u001b[39mself\u001b[39;49m\u001b[39m.\u001b[39;49m_make_plot()\n\u001b[0;32m    330\u001b[0m \u001b[39mself\u001b[39m\u001b[39m.\u001b[39m_add_table()\n\u001b[0;32m    331\u001b[0m \u001b[39mself\u001b[39m\u001b[39m.\u001b[39m_make_legend()\n",
      "File \u001b[1;32mc:\\Users\\rober\\AppData\\Local\\Programs\\Python\\Python310\\lib\\site-packages\\pandas\\plotting\\_matplotlib\\core.py:1558\u001b[0m, in \u001b[0;36mBarPlot._make_plot\u001b[1;34m(self)\u001b[0m\n\u001b[0;32m   1556\u001b[0m \u001b[39melse\u001b[39;00m:\n\u001b[0;32m   1557\u001b[0m     w \u001b[39m=\u001b[39m \u001b[39mself\u001b[39m\u001b[39m.\u001b[39mbar_width \u001b[39m/\u001b[39m K\n\u001b[1;32m-> 1558\u001b[0m     rect \u001b[39m=\u001b[39m \u001b[39mself\u001b[39m\u001b[39m.\u001b[39m_plot(\n\u001b[0;32m   1559\u001b[0m         ax,\n\u001b[0;32m   1560\u001b[0m         \u001b[39mself\u001b[39m\u001b[39m.\u001b[39max_pos \u001b[39m+\u001b[39m (i \u001b[39m+\u001b[39m \u001b[39m0.5\u001b[39m) \u001b[39m*\u001b[39m w,\n\u001b[0;32m   1561\u001b[0m         y,\n\u001b[0;32m   1562\u001b[0m         w,\n\u001b[0;32m   1563\u001b[0m         start\u001b[39m=\u001b[39mstart,\n\u001b[0;32m   1564\u001b[0m         label\u001b[39m=\u001b[39mlabel,\n\u001b[0;32m   1565\u001b[0m         log\u001b[39m=\u001b[39m\u001b[39mself\u001b[39m\u001b[39m.\u001b[39mlog,\n\u001b[0;32m   1566\u001b[0m         \u001b[39m*\u001b[39m\u001b[39m*\u001b[39mkwds,\n\u001b[0;32m   1567\u001b[0m     )\n\u001b[0;32m   1568\u001b[0m \u001b[39mself\u001b[39m\u001b[39m.\u001b[39m_append_legend_handles_labels(rect, label)\n",
      "File \u001b[1;32mc:\\Users\\rober\\AppData\\Local\\Programs\\Python\\Python310\\lib\\site-packages\\pandas\\plotting\\_matplotlib\\core.py:1488\u001b[0m, in \u001b[0;36mBarPlot._plot\u001b[1;34m(cls, ax, x, y, w, start, log, **kwds)\u001b[0m\n\u001b[0;32m   1484\u001b[0m \u001b[39m@classmethod\u001b[39m\n\u001b[0;32m   1485\u001b[0m \u001b[39mdef\u001b[39;00m \u001b[39m_plot\u001b[39m(  \u001b[39m# type: ignore[override]\u001b[39;00m\n\u001b[0;32m   1486\u001b[0m     \u001b[39mcls\u001b[39m, ax: Axes, x, y, w, start\u001b[39m=\u001b[39m\u001b[39m0\u001b[39m, log\u001b[39m=\u001b[39m\u001b[39mFalse\u001b[39;00m, \u001b[39m*\u001b[39m\u001b[39m*\u001b[39mkwds\n\u001b[0;32m   1487\u001b[0m ):\n\u001b[1;32m-> 1488\u001b[0m     \u001b[39mreturn\u001b[39;00m ax\u001b[39m.\u001b[39mbar(x, y, w, bottom\u001b[39m=\u001b[39mstart, log\u001b[39m=\u001b[39mlog, \u001b[39m*\u001b[39m\u001b[39m*\u001b[39mkwds)\n",
      "File \u001b[1;32mc:\\Users\\rober\\AppData\\Local\\Programs\\Python\\Python310\\lib\\site-packages\\matplotlib\\__init__.py:1412\u001b[0m, in \u001b[0;36m_preprocess_data.<locals>.inner\u001b[1;34m(ax, data, *args, **kwargs)\u001b[0m\n\u001b[0;32m   1409\u001b[0m \u001b[39m@functools\u001b[39m\u001b[39m.\u001b[39mwraps(func)\n\u001b[0;32m   1410\u001b[0m \u001b[39mdef\u001b[39;00m \u001b[39minner\u001b[39m(ax, \u001b[39m*\u001b[39margs, data\u001b[39m=\u001b[39m\u001b[39mNone\u001b[39;00m, \u001b[39m*\u001b[39m\u001b[39m*\u001b[39mkwargs):\n\u001b[0;32m   1411\u001b[0m     \u001b[39mif\u001b[39;00m data \u001b[39mis\u001b[39;00m \u001b[39mNone\u001b[39;00m:\n\u001b[1;32m-> 1412\u001b[0m         \u001b[39mreturn\u001b[39;00m func(ax, \u001b[39m*\u001b[39m\u001b[39mmap\u001b[39m(sanitize_sequence, args), \u001b[39m*\u001b[39m\u001b[39m*\u001b[39mkwargs)\n\u001b[0;32m   1414\u001b[0m     bound \u001b[39m=\u001b[39m new_sig\u001b[39m.\u001b[39mbind(ax, \u001b[39m*\u001b[39margs, \u001b[39m*\u001b[39m\u001b[39m*\u001b[39mkwargs)\n\u001b[0;32m   1415\u001b[0m     auto_label \u001b[39m=\u001b[39m (bound\u001b[39m.\u001b[39marguments\u001b[39m.\u001b[39mget(label_namer)\n\u001b[0;32m   1416\u001b[0m                   \u001b[39mor\u001b[39;00m bound\u001b[39m.\u001b[39mkwargs\u001b[39m.\u001b[39mget(label_namer))\n",
      "File \u001b[1;32mc:\\Users\\rober\\AppData\\Local\\Programs\\Python\\Python310\\lib\\site-packages\\matplotlib\\axes\\_axes.py:2403\u001b[0m, in \u001b[0;36mAxes.bar\u001b[1;34m(self, x, height, width, bottom, align, **kwargs)\u001b[0m\n\u001b[0;32m   2394\u001b[0m \u001b[39mfor\u001b[39;00m l, b, w, h, c, e, lw, htch \u001b[39min\u001b[39;00m args:\n\u001b[0;32m   2395\u001b[0m     r \u001b[39m=\u001b[39m mpatches\u001b[39m.\u001b[39mRectangle(\n\u001b[0;32m   2396\u001b[0m         xy\u001b[39m=\u001b[39m(l, b), width\u001b[39m=\u001b[39mw, height\u001b[39m=\u001b[39mh,\n\u001b[0;32m   2397\u001b[0m         facecolor\u001b[39m=\u001b[39mc,\n\u001b[1;32m   (...)\u001b[0m\n\u001b[0;32m   2401\u001b[0m         hatch\u001b[39m=\u001b[39mhtch,\n\u001b[0;32m   2402\u001b[0m         )\n\u001b[1;32m-> 2403\u001b[0m     r\u001b[39m.\u001b[39;49mupdate(kwargs)\n\u001b[0;32m   2404\u001b[0m     r\u001b[39m.\u001b[39mget_path()\u001b[39m.\u001b[39m_interpolation_steps \u001b[39m=\u001b[39m \u001b[39m100\u001b[39m\n\u001b[0;32m   2405\u001b[0m     \u001b[39mif\u001b[39;00m orientation \u001b[39m==\u001b[39m \u001b[39m'\u001b[39m\u001b[39mvertical\u001b[39m\u001b[39m'\u001b[39m:\n",
      "File \u001b[1;32mc:\\Users\\rober\\AppData\\Local\\Programs\\Python\\Python310\\lib\\site-packages\\matplotlib\\artist.py:1064\u001b[0m, in \u001b[0;36mArtist.update\u001b[1;34m(self, props)\u001b[0m\n\u001b[0;32m   1062\u001b[0m             func \u001b[39m=\u001b[39m \u001b[39mgetattr\u001b[39m(\u001b[39mself\u001b[39m, \u001b[39mf\u001b[39m\u001b[39m\"\u001b[39m\u001b[39mset_\u001b[39m\u001b[39m{\u001b[39;00mk\u001b[39m}\u001b[39;00m\u001b[39m\"\u001b[39m, \u001b[39mNone\u001b[39;00m)\n\u001b[0;32m   1063\u001b[0m             \u001b[39mif\u001b[39;00m \u001b[39mnot\u001b[39;00m callable(func):\n\u001b[1;32m-> 1064\u001b[0m                 \u001b[39mraise\u001b[39;00m \u001b[39mAttributeError\u001b[39;00m(\u001b[39mf\u001b[39m\u001b[39m\"\u001b[39m\u001b[39m{\u001b[39;00m\u001b[39mtype\u001b[39m(\u001b[39mself\u001b[39m)\u001b[39m.\u001b[39m\u001b[39m__name__\u001b[39m\u001b[39m!r}\u001b[39;00m\u001b[39m object \u001b[39m\u001b[39m\"\u001b[39m\n\u001b[0;32m   1065\u001b[0m                                      \u001b[39mf\u001b[39m\u001b[39m\"\u001b[39m\u001b[39mhas no property \u001b[39m\u001b[39m{\u001b[39;00mk\u001b[39m!r}\u001b[39;00m\u001b[39m\"\u001b[39m)\n\u001b[0;32m   1066\u001b[0m             ret\u001b[39m.\u001b[39mappend(func(v))\n\u001b[0;32m   1067\u001b[0m \u001b[39mif\u001b[39;00m ret:\n",
      "\u001b[1;31mAttributeError\u001b[0m: 'Rectangle' object has no property 'xticklabels'"
     ]
    },
    {
     "data": {
      "image/png": "[encoded data removed]",
      "text/plain": [
       "<Figure size 432x288 with 1 Axes>"
      ]
     },
     "metadata": {
      "needs_background": "light"
     },
     "output_type": "display_data"
    }
   ],
   "source": [
    "zscore(months).plot.bar(sharex=True, sharey=True, grid=True, xticklabels=months.index.month)"
   ]
  },
  {
   "cell_type": "code",
   "execution_count": null,
   "metadata": {},
   "outputs": [],
   "source": [
    "zscore"
   ]
  }
 ],
 "metadata": {
  "kernelspec": {
   "display_name": "Python 3",
   "language": "python",
   "name": "python3"
  },
  "language_info": {
   "codemirror_mode": {
    "name": "ipython",
    "version": 3
   },
   "file_extension": ".py",
   "mimetype": "text/x-python",
   "name": "python",
   "nbconvert_exporter": "python",
   "pygments_lexer": "ipython3",
   "version": "3.10.4"
  },
  "orig_nbformat": 4,
  "vscode": {
   "interpreter": {
    "hash": "67783390838d2e02912aac04d405c75735cc05868bfeaabbe6ec2bbdb2e2542d"
   }
  }
 },
 "nbformat": 4,
 "nbformat_minor": 2
}
