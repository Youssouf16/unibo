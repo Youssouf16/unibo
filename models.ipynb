{
 "cells": [
  {
   "cell_type": "code",
   "execution_count": null,
   "id": "52117bed",
   "metadata": {},
   "outputs": [],
   "source": [
    "import pandas as pd\n",
    "from sklearn.ensemble import RandomForestClassifier\n",
    "from sklearn.feature_extraction.text import CountVectorizer\n",
    "from sklearn.model_selection import train_test_split\n",
    "\n",
    "# Charger les données dans un dataframe pandas\n",
    "data = pd.read_csv(\"data.csv\")\n",
    "\n",
    "# slitting variables with target and dependent variables\n",
    "X = data['text']\n",
    "y = data['label']\n",
    "\n",
    "# Converting into bag of words\n",
    "vectorizer = CountVectorizer()\n",
    "X = vectorizer.fit_transform(X)\n",
    "\n",
    "# Splitting into train and test sets\n",
    "X_train, X_test, y_train, y_test = train_test_split(X, y, test_size=0.2)\n",
    "\n",
    "# training random forest classifier \n",
    "clf = RandomForestClassifier(n_estimators=100)\n",
    "clf.fit(X_train, y_train)\n",
    "\n",
    "# score of the test\n",
    "accuracy = clf.score(X_test, y_test)\n",
    "print(\"Accuracy : \", accuracy)"
   ]
  },
  {
   "cell_type": "markdown",
   "id": "441c9175",
   "metadata": {},
   "source": [
    "# Random forest with cross validation"
   ]
  },
  {
   "cell_type": "code",
   "execution_count": null,
   "id": "dd14f812",
   "metadata": {},
   "outputs": [],
   "source": [
    "# random forest classifier with cross validation\n",
    "clf = RandomForestClassifier(n_estimators=100)\n",
    "scores = cross_val_score(clf, X, y, cv=5)\n",
    "\n",
    "# score of the rfcv test\n",
    "print(\"Scores : \", scores)\n",
    "\n",
    "# Afficher la moyenne et l'écart-type des scores\n",
    "print(\"Accuracy : %0.2f (+/- %0.2f)\" % (scores.mean(), scores.std() * 2))"
   ]
  },
  {
   "cell_type": "markdown",
   "id": "aae310b9",
   "metadata": {},
   "source": [
    "# SVM"
   ]
  },
  {
   "cell_type": "code",
   "execution_count": null,
   "id": "1369a80e",
   "metadata": {},
   "outputs": [],
   "source": [
    "\n",
    "\n",
    "# training svm classifier SVM\n",
    "clf = SVC(kernel='linear')\n",
    "clf.fit(X_train, y_train)\n",
    "\n",
    "# accuracy of the classifier\n",
    "accuracy = clf.score(X_test, y_test)\n",
    "\n",
    "# accuracy\n",
    "print(\"Accuracy : \", accuracy)\n"
   ]
  },
  {
   "cell_type": "markdown",
   "id": "bd12113e",
   "metadata": {},
   "source": [
    "# SVM with cross validation"
   ]
  },
  {
   "cell_type": "code",
   "execution_count": null,
   "id": "5998b0df",
   "metadata": {},
   "outputs": [],
   "source": [
    "# training SVM with cv\n",
    "clf = SVC(kernel='linear')\n",
    "scores = cross_val_score(clf, X, y, cv=5)\n",
    "\n",
    "# scores\n",
    "print(\"Scores : \", scores)\n",
    "\n",
    "# scrores with sd\n",
    "print(\"Accuracy : %0.2f (+/- %0.2f)\" % (scores.mean(), scores.std() * 2))"
   ]
  },
  {
   "cell_type": "markdown",
   "id": "9f6f7dcc",
   "metadata": {},
   "source": [
    "# XGB"
   ]
  },
  {
   "cell_type": "code",
   "execution_count": null,
   "id": "49988ea9",
   "metadata": {},
   "outputs": [],
   "source": [
    "# convert format to DMatrix for XGBoost\n",
    "dtrain = xgb.DMatrix(X_train, label=y_train)\n",
    "dtest = xgb.DMatrix(X_test, label=y_test)\n",
    "\n",
    "# Definig parameters for XGBoost\n",
    "params = {\n",
    "    'objective': 'binary:logistic',\n",
    "    'max_depth': 5,\n",
    "    'eta': 0.1,\n",
    "    'subsample': 0.7,\n",
    "    'colsample_bytree': 0.7,\n",
    "    'min_child_weight': 5,\n",
    "    'silent': 0,\n",
    "}\n",
    "\n",
    "# training XGBoost model\n",
    "bst = xgb.train(params, dtrain, num_boost_round=100)\n",
    "\n",
    "# Faire des prédictions sur le jeu de test\n",
    "y_pred = bst.predict(dtest)\n",
    "\n",
    "accuracy = bst.score(X_test, y_test)"
   ]
  }
 ],
 "metadata": {
  "kernelspec": {
   "display_name": "Python 3 (ipykernel)",
   "language": "python",
   "name": "python3"
  },
  "language_info": {
   "codemirror_mode": {
    "name": "ipython",
    "version": 3
   },
   "file_extension": ".py",
   "mimetype": "text/x-python",
   "name": "python",
   "nbconvert_exporter": "python",
   "pygments_lexer": "ipython3",
   "version": "3.9.13"
  }
 },
 "nbformat": 4,
 "nbformat_minor": 5
}
