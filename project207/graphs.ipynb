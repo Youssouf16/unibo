{
 "cells": [
  {
   "cell_type": "code",
   "execution_count": 63,
   "id": "4024e87c-bf30-4cd3-8d23-23b5b488955a",
   "metadata": {
    "collapsed": true,
    "jupyter": {
     "outputs_hidden": true,
     "source_hidden": true
    },
    "tags": []
   },
   "outputs": [
    {
     "name": "stderr",
     "output_type": "stream",
     "text": [
      "[nltk_data] Downloading package stopwords to\n",
      "[nltk_data]     C:\\Users\\user\\AppData\\Roaming\\nltk_data...\n",
      "[nltk_data]   Package stopwords is already up-to-date!\n",
      "[nltk_data] Downloading package wordnet to\n",
      "[nltk_data]     C:\\Users\\user\\AppData\\Roaming\\nltk_data...\n",
      "[nltk_data]   Package wordnet is already up-to-date!\n",
      "[nltk_data] Downloading package omw-1.4 to\n",
      "[nltk_data]     C:\\Users\\user\\AppData\\Roaming\\nltk_data...\n",
      "[nltk_data]   Package omw-1.4 is already up-to-date!\n",
      "[nltk_data] Downloading package stopwords to\n",
      "[nltk_data]     C:\\Users\\user\\AppData\\Roaming\\nltk_data...\n",
      "[nltk_data]   Package stopwords is already up-to-date!\n",
      "[nltk_data] Downloading package wordnet to\n",
      "[nltk_data]     C:\\Users\\user\\AppData\\Roaming\\nltk_data...\n",
      "[nltk_data]   Package wordnet is already up-to-date!\n",
      "[nltk_data] Downloading package omw-1.4 to\n",
      "[nltk_data]     C:\\Users\\user\\AppData\\Roaming\\nltk_data...\n",
      "[nltk_data]   Package omw-1.4 is already up-to-date!\n"
     ]
    }
   ],
   "source": [
    "import pandas as pd\n",
    "import seaborn as sns\n",
    "from calendar import month_name\n",
    "%run Untitled22.ipynb\n",
    "import matplotlib.pyplot as plt"
   ]
  },
  {
   "cell_type": "markdown",
   "id": "92223c0b-1d56-49d6-8957-3dcacaf41743",
   "metadata": {},
   "source": [
    "loading the rainfall dataset and transforming it\n"
   ]
  },
  {
   "cell_type": "code",
   "execution_count": 92,
   "id": "f3381a1a-463f-479b-857e-9ced5e97a6e7",
   "metadata": {},
   "outputs": [],
   "source": [
    "rain = pd.read_csv('Documents/python code unibo/data/rain_data.csv', index_col='Unnamed: 0')\n",
    "rain.head()\n",
    "\n",
    "#creating avariable which will return the precipitation in mm\n",
    "\n",
    "rain['precipitation in mm'] = rain[0:-1].sum(axis=1)\n",
    "# Converting the datatframe into time series\n",
    "rain.index = pd.to_datetime(rain.index)\n",
    "\n",
    "#converting into monthly time serie\n",
    "cols = [-1]\n",
    "rain2 = rain[rain.columns[cols]]\n",
    "rain_montly =rain2.resample('M').mean()\n",
    "months = [month_name[i] for i in range(3,13)]\n",
    "rain_montly['months'] = months\n",
    "rain_montly = rain_montly.drop(rain_montly.index[-1])"
   ]
  },
  {
   "cell_type": "code",
   "execution_count": 67,
   "id": "eb441eab-e2eb-44a5-82a5-5dbab3c3d0f7",
   "metadata": {},
   "outputs": [],
   "source": [
    "rain.index = pd.to_datetime(rain.index)\n",
    "df.index = pd.to_datetime(df.index).date.astype('datetime64')\n",
    "#tweets = df2['class'].truncate(before='2022-03-29')\n",
    "\n",
    "#target_date = pd.Timestamp('2022-03-29')\n",
    "\n",
    "tweets_weekly = df2.resample('W').sum()\n",
    "tweets_weekly = tweets_weekly.rename(columns={\"class\": \"malaria instances\"})\n",
    "tweets_weekly[\"months\"] = tweets_weekly.index.month\n",
    "tweets_weekly[\"months\"] = [month_name[num] for num in tweets_weekly[\"months\"]]\n",
    "\n",
    "\n",
    "\n",
    "rain_weekly = rain.resample('W').mean()\n",
    "rain_weekly[\"months\"] = rain_weekly.index.month\n",
    "rain_weekly[\"months\"] = [month_name[num] for num in rain_weekly[\"months\"]]\n",
    "rain_weekly1 = rain_weekly[rain_weekly.columns[cols]]\n",
    "    \n",
    "    "
   ]
  },
  {
   "cell_type": "code",
   "execution_count": 68,
   "id": "7a8d4513-91ae-4e85-9d37-e4e7bb548671",
   "metadata": {
    "tags": []
   },
   "outputs": [
    {
     "data": {
      "text/html": [
       "<div>\n",
       "<style scoped>\n",
       "    .dataframe tbody tr th:only-of-type {\n",
       "        vertical-align: middle;\n",
       "    }\n",
       "\n",
       "    .dataframe tbody tr th {\n",
       "        vertical-align: top;\n",
       "    }\n",
       "\n",
       "    .dataframe thead th {\n",
       "        text-align: right;\n",
       "    }\n",
       "</style>\n",
       "<table border=\"1\" class=\"dataframe\">\n",
       "  <thead>\n",
       "    <tr style=\"text-align: right;\">\n",
       "      <th></th>\n",
       "      <th>precipitation in mm</th>\n",
       "      <th>months</th>\n",
       "    </tr>\n",
       "  </thead>\n",
       "  <tbody>\n",
       "    <tr>\n",
       "      <th>2022-03-20</th>\n",
       "      <td>4.483333</td>\n",
       "      <td>March</td>\n",
       "    </tr>\n",
       "    <tr>\n",
       "      <th>2022-03-27</th>\n",
       "      <td>4.857143</td>\n",
       "      <td>March</td>\n",
       "    </tr>\n",
       "    <tr>\n",
       "      <th>2022-04-03</th>\n",
       "      <td>5.071429</td>\n",
       "      <td>April</td>\n",
       "    </tr>\n",
       "    <tr>\n",
       "      <th>2022-04-10</th>\n",
       "      <td>14.585714</td>\n",
       "      <td>April</td>\n",
       "    </tr>\n",
       "    <tr>\n",
       "      <th>2022-04-17</th>\n",
       "      <td>30.671429</td>\n",
       "      <td>April</td>\n",
       "    </tr>\n",
       "  </tbody>\n",
       "</table>\n",
       "</div>"
      ],
      "text/plain": [
       "            precipitation in mm months\n",
       "2022-03-20             4.483333  March\n",
       "2022-03-27             4.857143  March\n",
       "2022-04-03             5.071429  April\n",
       "2022-04-10            14.585714  April\n",
       "2022-04-17            30.671429  April"
      ]
     },
     "execution_count": 68,
     "metadata": {},
     "output_type": "execute_result"
    }
   ],
   "source": [
    "rain_weekly1.head()"
   ]
  },
  {
   "cell_type": "code",
   "execution_count": 74,
   "id": "a402d768-6a5d-42eb-be49-046d4ced2cfd",
   "metadata": {
    "tags": []
   },
   "outputs": [
    {
     "data": {
      "text/html": [
       "<div>\n",
       "<style scoped>\n",
       "    .dataframe tbody tr th:only-of-type {\n",
       "        vertical-align: middle;\n",
       "    }\n",
       "\n",
       "    .dataframe tbody tr th {\n",
       "        vertical-align: top;\n",
       "    }\n",
       "\n",
       "    .dataframe thead th {\n",
       "        text-align: right;\n",
       "    }\n",
       "</style>\n",
       "<table border=\"1\" class=\"dataframe\">\n",
       "  <thead>\n",
       "    <tr style=\"text-align: right;\">\n",
       "      <th></th>\n",
       "      <th>precipitation in mm</th>\n",
       "      <th>months</th>\n",
       "    </tr>\n",
       "  </thead>\n",
       "  <tbody>\n",
       "    <tr>\n",
       "      <th>2022-03-13</th>\n",
       "      <td>4.483333</td>\n",
       "      <td>March</td>\n",
       "    </tr>\n",
       "    <tr>\n",
       "      <th>2022-03-20</th>\n",
       "      <td>4.857143</td>\n",
       "      <td>March</td>\n",
       "    </tr>\n",
       "    <tr>\n",
       "      <th>2022-03-27</th>\n",
       "      <td>5.071429</td>\n",
       "      <td>April</td>\n",
       "    </tr>\n",
       "    <tr>\n",
       "      <th>2022-04-03</th>\n",
       "      <td>14.585714</td>\n",
       "      <td>April</td>\n",
       "    </tr>\n",
       "    <tr>\n",
       "      <th>2022-04-10</th>\n",
       "      <td>30.671429</td>\n",
       "      <td>April</td>\n",
       "    </tr>\n",
       "    <tr>\n",
       "      <th>2022-04-17</th>\n",
       "      <td>27.157143</td>\n",
       "      <td>April</td>\n",
       "    </tr>\n",
       "    <tr>\n",
       "      <th>2022-04-24</th>\n",
       "      <td>13.657143</td>\n",
       "      <td>May</td>\n",
       "    </tr>\n",
       "    <tr>\n",
       "      <th>2022-05-01</th>\n",
       "      <td>31.957143</td>\n",
       "      <td>May</td>\n",
       "    </tr>\n",
       "    <tr>\n",
       "      <th>2022-05-08</th>\n",
       "      <td>32.471429</td>\n",
       "      <td>May</td>\n",
       "    </tr>\n",
       "    <tr>\n",
       "      <th>2022-05-15</th>\n",
       "      <td>29.314286</td>\n",
       "      <td>May</td>\n",
       "    </tr>\n",
       "    <tr>\n",
       "      <th>2022-05-22</th>\n",
       "      <td>19.785714</td>\n",
       "      <td>May</td>\n",
       "    </tr>\n",
       "    <tr>\n",
       "      <th>2022-05-29</th>\n",
       "      <td>9.442857</td>\n",
       "      <td>June</td>\n",
       "    </tr>\n",
       "    <tr>\n",
       "      <th>2022-06-05</th>\n",
       "      <td>37.185714</td>\n",
       "      <td>June</td>\n",
       "    </tr>\n",
       "    <tr>\n",
       "      <th>2022-06-12</th>\n",
       "      <td>78.171429</td>\n",
       "      <td>June</td>\n",
       "    </tr>\n",
       "    <tr>\n",
       "      <th>2022-06-19</th>\n",
       "      <td>63.471429</td>\n",
       "      <td>June</td>\n",
       "    </tr>\n",
       "    <tr>\n",
       "      <th>2022-06-26</th>\n",
       "      <td>76.514286</td>\n",
       "      <td>July</td>\n",
       "    </tr>\n",
       "    <tr>\n",
       "      <th>2022-07-03</th>\n",
       "      <td>59.685714</td>\n",
       "      <td>July</td>\n",
       "    </tr>\n",
       "    <tr>\n",
       "      <th>2022-07-10</th>\n",
       "      <td>56.614286</td>\n",
       "      <td>July</td>\n",
       "    </tr>\n",
       "    <tr>\n",
       "      <th>2022-07-17</th>\n",
       "      <td>44.785714</td>\n",
       "      <td>July</td>\n",
       "    </tr>\n",
       "    <tr>\n",
       "      <th>2022-07-24</th>\n",
       "      <td>61.957143</td>\n",
       "      <td>July</td>\n",
       "    </tr>\n",
       "    <tr>\n",
       "      <th>2022-07-31</th>\n",
       "      <td>39.785714</td>\n",
       "      <td>August</td>\n",
       "    </tr>\n",
       "    <tr>\n",
       "      <th>2022-08-07</th>\n",
       "      <td>64.714286</td>\n",
       "      <td>August</td>\n",
       "    </tr>\n",
       "    <tr>\n",
       "      <th>2022-08-14</th>\n",
       "      <td>51.471429</td>\n",
       "      <td>August</td>\n",
       "    </tr>\n",
       "    <tr>\n",
       "      <th>2022-08-21</th>\n",
       "      <td>62.742857</td>\n",
       "      <td>August</td>\n",
       "    </tr>\n",
       "    <tr>\n",
       "      <th>2022-08-28</th>\n",
       "      <td>96.828571</td>\n",
       "      <td>September</td>\n",
       "    </tr>\n",
       "    <tr>\n",
       "      <th>2022-09-04</th>\n",
       "      <td>57.385714</td>\n",
       "      <td>September</td>\n",
       "    </tr>\n",
       "    <tr>\n",
       "      <th>2022-09-11</th>\n",
       "      <td>53.728571</td>\n",
       "      <td>September</td>\n",
       "    </tr>\n",
       "    <tr>\n",
       "      <th>2022-09-18</th>\n",
       "      <td>53.985714</td>\n",
       "      <td>September</td>\n",
       "    </tr>\n",
       "    <tr>\n",
       "      <th>2022-09-25</th>\n",
       "      <td>71.371429</td>\n",
       "      <td>October</td>\n",
       "    </tr>\n",
       "    <tr>\n",
       "      <th>2022-10-02</th>\n",
       "      <td>39.671429</td>\n",
       "      <td>October</td>\n",
       "    </tr>\n",
       "    <tr>\n",
       "      <th>2022-10-09</th>\n",
       "      <td>25.371429</td>\n",
       "      <td>October</td>\n",
       "    </tr>\n",
       "    <tr>\n",
       "      <th>2022-10-16</th>\n",
       "      <td>20.514286</td>\n",
       "      <td>October</td>\n",
       "    </tr>\n",
       "    <tr>\n",
       "      <th>2022-10-23</th>\n",
       "      <td>22.900000</td>\n",
       "      <td>October</td>\n",
       "    </tr>\n",
       "    <tr>\n",
       "      <th>2022-10-30</th>\n",
       "      <td>10.871429</td>\n",
       "      <td>November</td>\n",
       "    </tr>\n",
       "    <tr>\n",
       "      <th>2022-11-06</th>\n",
       "      <td>13.871429</td>\n",
       "      <td>November</td>\n",
       "    </tr>\n",
       "    <tr>\n",
       "      <th>2022-11-13</th>\n",
       "      <td>5.728571</td>\n",
       "      <td>November</td>\n",
       "    </tr>\n",
       "    <tr>\n",
       "      <th>2022-11-20</th>\n",
       "      <td>3.671429</td>\n",
       "      <td>November</td>\n",
       "    </tr>\n",
       "    <tr>\n",
       "      <th>2022-11-27</th>\n",
       "      <td>7.085714</td>\n",
       "      <td>December</td>\n",
       "    </tr>\n",
       "    <tr>\n",
       "      <th>2022-12-04</th>\n",
       "      <td>1.185714</td>\n",
       "      <td>December</td>\n",
       "    </tr>\n",
       "    <tr>\n",
       "      <th>2022-12-11</th>\n",
       "      <td>2.200000</td>\n",
       "      <td>December</td>\n",
       "    </tr>\n",
       "  </tbody>\n",
       "</table>\n",
       "</div>"
      ],
      "text/plain": [
       "            precipitation in mm     months\n",
       "2022-03-13             4.483333      March\n",
       "2022-03-20             4.857143      March\n",
       "2022-03-27             5.071429      April\n",
       "2022-04-03            14.585714      April\n",
       "2022-04-10            30.671429      April\n",
       "2022-04-17            27.157143      April\n",
       "2022-04-24            13.657143        May\n",
       "2022-05-01            31.957143        May\n",
       "2022-05-08            32.471429        May\n",
       "2022-05-15            29.314286        May\n",
       "2022-05-22            19.785714        May\n",
       "2022-05-29             9.442857       June\n",
       "2022-06-05            37.185714       June\n",
       "2022-06-12            78.171429       June\n",
       "2022-06-19            63.471429       June\n",
       "2022-06-26            76.514286       July\n",
       "2022-07-03            59.685714       July\n",
       "2022-07-10            56.614286       July\n",
       "2022-07-17            44.785714       July\n",
       "2022-07-24            61.957143       July\n",
       "2022-07-31            39.785714     August\n",
       "2022-08-07            64.714286     August\n",
       "2022-08-14            51.471429     August\n",
       "2022-08-21            62.742857     August\n",
       "2022-08-28            96.828571  September\n",
       "2022-09-04            57.385714  September\n",
       "2022-09-11            53.728571  September\n",
       "2022-09-18            53.985714  September\n",
       "2022-09-25            71.371429    October\n",
       "2022-10-02            39.671429    October\n",
       "2022-10-09            25.371429    October\n",
       "2022-10-16            20.514286    October\n",
       "2022-10-23            22.900000    October\n",
       "2022-10-30            10.871429   November\n",
       "2022-11-06            13.871429   November\n",
       "2022-11-13             5.728571   November\n",
       "2022-11-20             3.671429   November\n",
       "2022-11-27             7.085714   December\n",
       "2022-12-04             1.185714   December\n",
       "2022-12-11             2.200000   December"
      ]
     },
     "execution_count": 74,
     "metadata": {},
     "output_type": "execute_result"
    }
   ],
   "source": [
    "rain_week_1week = rain_weekly1.copy()\n",
    "rain_week_1week.index = rain_weekly1.index.shift(periods=-1)# Shift the dates backward by two weeks\n",
    "#df = df[df['date'] >= target_date]\n",
    "#df['date'] = df['date'].dt.strftime('%d-%m-%Y')\n",
    "#tweets_weekly.index = tweets_weekly.index.strftime('%d-%m-%Y')\n",
    "\n",
    "#tweets_weekly = tweets_weekly[tweets_weekly.index>=target_date]\n",
    "\n",
    "\n",
    "rain_week_2week = rain_weekly1.copy()\n",
    "rain_week_2week.index = rain_weekly1.index.shift(periods=-2) # Shift the dates backward by one week\n",
    "rain_week_1week"
   ]
  },
  {
   "cell_type": "markdown",
   "id": "16bef79d-8e98-426f-ad64-7bda221c31f8",
   "metadata": {},
   "source": [
    "# The precipitation graph"
   ]
  },
  {
   "cell_type": "code",
   "execution_count": 96,
   "id": "e9d49593-c418-45e7-9453-2c3aa9bdad58",
   "metadata": {},
   "outputs": [
    {
     "data": {
      "text/plain": [
       "<AxesSubplot:xlabel='months', ylabel='precipitation in mm'>"
      ]
     },
     "execution_count": 96,
     "metadata": {},
     "output_type": "execute_result"
    },
    {
     "data": {
      "image/png": "[encoded data removed]",
      "text/plain": [
       "<Figure size 432x288 with 1 Axes>"
      ]
     },
     "metadata": {
      "needs_background": "light"
     },
     "output_type": "display_data"
    }
   ],
   "source": [
    "# Create the bar plot\n",
    "sns.barplot(x='months', y='precipitation in mm', data=rain_montly, color= \"blue\")\n"
   ]
  },
  {
   "cell_type": "markdown",
   "id": "399fa250-0ba5-42c2-b506-1dc774e4bae4",
   "metadata": {},
   "source": [
    "# tranformming the tweets dataset"
   ]
  },
  {
   "cell_type": "code",
   "execution_count": 70,
   "id": "137bed13-0255-4dbd-a9e0-0fc479ea3802",
   "metadata": {},
   "outputs": [],
   "source": [
    "# importing the dataset\n",
    "df = pd.read_csv('Documents/data/tweet_df_class.csv', index_col='Datetime').drop('Unnamed: 0', axis=1)\n",
    "tweets_text = df.original_text\n",
    "prep_tweets = tweets_text.apply(pre_processing)"
   ]
  },
  {
   "cell_type": "code",
   "execution_count": 71,
   "id": "d810b48a-5a29-4cd2-a4d4-109c938e87a3",
   "metadata": {},
   "outputs": [],
   "source": [
    "#converting the dataframe into a time series with only variables class and daytime \n",
    "cols = [1]\n",
    "df2 = df[df.columns[cols]]\n",
    "\n",
    "\n",
    "# Converting the datatframe into time series\n",
    "df2.index = pd.to_datetime(df2.index)\n",
    "\n",
    "monthly_ts = df2.resample('M').sum()\n",
    "months = [month_name[i] for i in range(3,12)]\n",
    "monthly_ts['months'] = months\n",
    "monthly_ts = monthly_ts.rename(columns={\"class\": \"malaria instances\"})\n"
   ]
  },
  {
   "cell_type": "markdown",
   "id": "459fba46-fd06-46d2-bb98-0dafa62be5b0",
   "metadata": {},
   "source": [
    "# graph for the tweets"
   ]
  },
  {
   "cell_type": "code",
   "execution_count": 97,
   "id": "979f4d38-8dd0-4bc1-aace-1df5829c72b0",
   "metadata": {},
   "outputs": [
    {
     "data": {
      "text/plain": [
       "[Text(0.5, 0, 'months'),\n",
       " Text(0, 0.5, 'malaria instances'),\n",
       " Text(0.5, 1.0, 'malaria instances by months ')]"
      ]
     },
     "execution_count": 97,
     "metadata": {},
     "output_type": "execute_result"
    },
    {
     "data": {
      "image/png": "[encoded data removed]",
      "text/plain": [
       "<Figure size 432x288 with 1 Axes>"
      ]
     },
     "metadata": {
      "needs_background": "light"
     },
     "output_type": "display_data"
    }
   ],
   "source": [
    "# the graph for the tweets\n",
    "ax = sns.barplot(x='months', y='malaria instances', data=monthly_ts, color= \"orange\")\n",
    "ax.set(xlabel='months', ylabel='malaria instances', title = \"malaria instances by months \")"
   ]
  },
  {
   "cell_type": "code",
   "execution_count": 93,
   "id": "c83d9d23-d4ad-458b-948b-5a9444a5d48d",
   "metadata": {
    "tags": []
   },
   "outputs": [
    {
     "data": {
      "text/html": [
       "<div>\n",
       "<style scoped>\n",
       "    .dataframe tbody tr th:only-of-type {\n",
       "        vertical-align: middle;\n",
       "    }\n",
       "\n",
       "    .dataframe tbody tr th {\n",
       "        vertical-align: top;\n",
       "    }\n",
       "\n",
       "    .dataframe thead th {\n",
       "        text-align: right;\n",
       "    }\n",
       "</style>\n",
       "<table border=\"1\" class=\"dataframe\">\n",
       "  <thead>\n",
       "    <tr style=\"text-align: right;\">\n",
       "      <th></th>\n",
       "      <th>months</th>\n",
       "      <th>variable</th>\n",
       "      <th>value</th>\n",
       "    </tr>\n",
       "  </thead>\n",
       "  <tbody>\n",
       "    <tr>\n",
       "      <th>0</th>\n",
       "      <td>March</td>\n",
       "      <td>precipitation in mm</td>\n",
       "      <td>4.317647</td>\n",
       "    </tr>\n",
       "    <tr>\n",
       "      <th>1</th>\n",
       "      <td>April</td>\n",
       "      <td>precipitation in mm</td>\n",
       "      <td>20.733333</td>\n",
       "    </tr>\n",
       "    <tr>\n",
       "      <th>2</th>\n",
       "      <td>May</td>\n",
       "      <td>precipitation in mm</td>\n",
       "      <td>26.135484</td>\n",
       "    </tr>\n",
       "    <tr>\n",
       "      <th>3</th>\n",
       "      <td>June</td>\n",
       "      <td>precipitation in mm</td>\n",
       "      <td>52.506667</td>\n",
       "    </tr>\n",
       "    <tr>\n",
       "      <th>4</th>\n",
       "      <td>July</td>\n",
       "      <td>precipitation in mm</td>\n",
       "      <td>58.954839</td>\n",
       "    </tr>\n",
       "    <tr>\n",
       "      <th>5</th>\n",
       "      <td>August</td>\n",
       "      <td>precipitation in mm</td>\n",
       "      <td>62.245161</td>\n",
       "    </tr>\n",
       "    <tr>\n",
       "      <th>6</th>\n",
       "      <td>September</td>\n",
       "      <td>precipitation in mm</td>\n",
       "      <td>60.786667</td>\n",
       "    </tr>\n",
       "    <tr>\n",
       "      <th>7</th>\n",
       "      <td>October</td>\n",
       "      <td>precipitation in mm</td>\n",
       "      <td>28.503226</td>\n",
       "    </tr>\n",
       "    <tr>\n",
       "      <th>8</th>\n",
       "      <td>November</td>\n",
       "      <td>precipitation in mm</td>\n",
       "      <td>8.396667</td>\n",
       "    </tr>\n",
       "    <tr>\n",
       "      <th>9</th>\n",
       "      <td>March</td>\n",
       "      <td>malaria instances</td>\n",
       "      <td>20.000000</td>\n",
       "    </tr>\n",
       "    <tr>\n",
       "      <th>10</th>\n",
       "      <td>April</td>\n",
       "      <td>malaria instances</td>\n",
       "      <td>34.000000</td>\n",
       "    </tr>\n",
       "    <tr>\n",
       "      <th>11</th>\n",
       "      <td>May</td>\n",
       "      <td>malaria instances</td>\n",
       "      <td>40.000000</td>\n",
       "    </tr>\n",
       "    <tr>\n",
       "      <th>12</th>\n",
       "      <td>June</td>\n",
       "      <td>malaria instances</td>\n",
       "      <td>37.000000</td>\n",
       "    </tr>\n",
       "    <tr>\n",
       "      <th>13</th>\n",
       "      <td>July</td>\n",
       "      <td>malaria instances</td>\n",
       "      <td>50.000000</td>\n",
       "    </tr>\n",
       "    <tr>\n",
       "      <th>14</th>\n",
       "      <td>August</td>\n",
       "      <td>malaria instances</td>\n",
       "      <td>42.000000</td>\n",
       "    </tr>\n",
       "    <tr>\n",
       "      <th>15</th>\n",
       "      <td>September</td>\n",
       "      <td>malaria instances</td>\n",
       "      <td>37.000000</td>\n",
       "    </tr>\n",
       "    <tr>\n",
       "      <th>16</th>\n",
       "      <td>October</td>\n",
       "      <td>malaria instances</td>\n",
       "      <td>37.000000</td>\n",
       "    </tr>\n",
       "    <tr>\n",
       "      <th>17</th>\n",
       "      <td>November</td>\n",
       "      <td>malaria instances</td>\n",
       "      <td>15.000000</td>\n",
       "    </tr>\n",
       "  </tbody>\n",
       "</table>\n",
       "</div>"
      ],
      "text/plain": [
       "       months             variable      value\n",
       "0       March  precipitation in mm   4.317647\n",
       "1       April  precipitation in mm  20.733333\n",
       "2         May  precipitation in mm  26.135484\n",
       "3        June  precipitation in mm  52.506667\n",
       "4        July  precipitation in mm  58.954839\n",
       "5      August  precipitation in mm  62.245161\n",
       "6   September  precipitation in mm  60.786667\n",
       "7     October  precipitation in mm  28.503226\n",
       "8    November  precipitation in mm   8.396667\n",
       "9       March    malaria instances  20.000000\n",
       "10      April    malaria instances  34.000000\n",
       "11        May    malaria instances  40.000000\n",
       "12       June    malaria instances  37.000000\n",
       "13       July    malaria instances  50.000000\n",
       "14     August    malaria instances  42.000000\n",
       "15  September    malaria instances  37.000000\n",
       "16    October    malaria instances  37.000000\n",
       "17   November    malaria instances  15.000000"
      ]
     },
     "execution_count": 93,
     "metadata": {},
     "output_type": "execute_result"
    }
   ],
   "source": [
    "full = rain_montly.merge(monthly_ts, how='inner')\n",
    "full1 = pd.melt(full, id_vars = \"months\")\n",
    "full1\n",
    "\n"
   ]
  },
  {
   "cell_type": "code",
   "execution_count": 91,
   "id": "f2210f79-8e93-4697-8e46-e52b049a7763",
   "metadata": {},
   "outputs": [
    {
     "data": {
      "text/html": [
       "<div>\n",
       "<style scoped>\n",
       "    .dataframe tbody tr th:only-of-type {\n",
       "        vertical-align: middle;\n",
       "    }\n",
       "\n",
       "    .dataframe tbody tr th {\n",
       "        vertical-align: top;\n",
       "    }\n",
       "\n",
       "    .dataframe thead th {\n",
       "        text-align: right;\n",
       "    }\n",
       "</style>\n",
       "<table border=\"1\" class=\"dataframe\">\n",
       "  <thead>\n",
       "    <tr style=\"text-align: right;\">\n",
       "      <th></th>\n",
       "      <th>zaria</th>\n",
       "      <th>precipitation in mm</th>\n",
       "      <th>months</th>\n",
       "    </tr>\n",
       "  </thead>\n",
       "  <tbody>\n",
       "    <tr>\n",
       "      <th>2022-03-31</th>\n",
       "      <td>0.000000</td>\n",
       "      <td>4.317647</td>\n",
       "      <td>March</td>\n",
       "    </tr>\n",
       "    <tr>\n",
       "      <th>2022-04-30</th>\n",
       "      <td>0.296667</td>\n",
       "      <td>20.733333</td>\n",
       "      <td>April</td>\n",
       "    </tr>\n",
       "    <tr>\n",
       "      <th>2022-05-31</th>\n",
       "      <td>0.816129</td>\n",
       "      <td>26.135484</td>\n",
       "      <td>May</td>\n",
       "    </tr>\n",
       "    <tr>\n",
       "      <th>2022-06-30</th>\n",
       "      <td>1.840000</td>\n",
       "      <td>52.506667</td>\n",
       "      <td>June</td>\n",
       "    </tr>\n",
       "    <tr>\n",
       "      <th>2022-07-31</th>\n",
       "      <td>2.019355</td>\n",
       "      <td>58.954839</td>\n",
       "      <td>July</td>\n",
       "    </tr>\n",
       "    <tr>\n",
       "      <th>2022-08-31</th>\n",
       "      <td>4.270968</td>\n",
       "      <td>62.245161</td>\n",
       "      <td>August</td>\n",
       "    </tr>\n",
       "    <tr>\n",
       "      <th>2022-09-30</th>\n",
       "      <td>3.200000</td>\n",
       "      <td>60.786667</td>\n",
       "      <td>September</td>\n",
       "    </tr>\n",
       "    <tr>\n",
       "      <th>2022-10-31</th>\n",
       "      <td>0.667742</td>\n",
       "      <td>28.503226</td>\n",
       "      <td>October</td>\n",
       "    </tr>\n",
       "    <tr>\n",
       "      <th>2022-11-30</th>\n",
       "      <td>0.000000</td>\n",
       "      <td>8.396667</td>\n",
       "      <td>November</td>\n",
       "    </tr>\n",
       "  </tbody>\n",
       "</table>\n",
       "</div>"
      ],
      "text/plain": [
       "               zaria  precipitation in mm     months\n",
       "2022-03-31  0.000000             4.317647      March\n",
       "2022-04-30  0.296667            20.733333      April\n",
       "2022-05-31  0.816129            26.135484        May\n",
       "2022-06-30  1.840000            52.506667       June\n",
       "2022-07-31  2.019355            58.954839       July\n",
       "2022-08-31  4.270968            62.245161     August\n",
       "2022-09-30  3.200000            60.786667  September\n",
       "2022-10-31  0.667742            28.503226    October\n",
       "2022-11-30  0.000000             8.396667   November"
      ]
     },
     "execution_count": 91,
     "metadata": {},
     "output_type": "execute_result"
    }
   ],
   "source": [
    "rain_montly"
   ]
  },
  {
   "cell_type": "code",
   "execution_count": 23,
   "id": "4d82ab4c-a69f-440b-be16-1cc0ba0c77d2",
   "metadata": {},
   "outputs": [
    {
     "data": {
      "text/plain": [
       "DatetimeIndex(['2022-03-13', '2022-03-20', '2022-03-27', '2022-04-03',\n",
       "               '2022-04-10', '2022-04-17', '2022-04-24', '2022-05-01',\n",
       "               '2022-05-08', '2022-05-15', '2022-05-22', '2022-05-29',\n",
       "               '2022-06-05', '2022-06-12', '2022-06-19', '2022-06-26',\n",
       "               '2022-07-03', '2022-07-10', '2022-07-17', '2022-07-24',\n",
       "               '2022-07-31', '2022-08-07', '2022-08-14', '2022-08-21',\n",
       "               '2022-08-28', '2022-09-04', '2022-09-11', '2022-09-18',\n",
       "               '2022-09-25', '2022-10-02', '2022-10-09', '2022-10-16',\n",
       "               '2022-10-23', '2022-10-30', '2022-11-06', '2022-11-13',\n",
       "               '2022-11-20', '2022-11-27', '2022-12-04', '2022-12-11'],\n",
       "              dtype='datetime64[ns]', freq='W-SUN')"
      ]
     },
     "execution_count": 23,
     "metadata": {},
     "output_type": "execute_result"
    }
   ],
   "source": [
    "rain_week_1week"
   ]
  },
  {
   "cell_type": "markdown",
   "id": "4e2a3962-4961-4eb6-b222-232db6dd531f",
   "metadata": {},
   "source": [
    "# The line graph"
   ]
  },
  {
   "cell_type": "code",
   "execution_count": 98,
   "id": "a907a848-7a9f-4ad7-9cf0-d8861f439454",
   "metadata": {},
   "outputs": [
    {
     "data": {
      "text/plain": [
       "<matplotlib.legend.Legend at 0x223653634c0>"
      ]
     },
     "execution_count": 98,
     "metadata": {},
     "output_type": "execute_result"
    },
    {
     "data": {
      "image/png": "[encoded data removed]",
      "text/plain": [
       "<Figure size 432x288 with 1 Axes>"
      ]
     },
     "metadata": {
      "needs_background": "light"
     },
     "output_type": "display_data"
    }
   ],
   "source": [
    "fig, axs = plt.subplots(ncols=1)\n",
    "sns.lineplot(x=rain_week_1week.index, y='precipitation in mm', data=rain_week_1week,lw=3)\n",
    "b = sns.lineplot(x=tweets_weekly.index, y='malaria instances', data=tweets_weekly, lw=3)\n",
    "b.set(xlabel='weeks', ylabel='malaria instance and precipitation in mm', title = \"trend in relation between malaria instance and precipitation records for 1 weeks before\")\n",
    "plt.legend(labels=['precipitation in mm','malaria instance'], facecolor='white')"
   ]
  },
  {
   "cell_type": "code",
   "execution_count": 99,
   "id": "747b3a58-7e8f-47fd-b46d-4fa601c67660",
   "metadata": {},
   "outputs": [
    {
     "data": {
      "text/plain": [
       "<matplotlib.legend.Legend at 0x22365396fd0>"
      ]
     },
     "execution_count": 99,
     "metadata": {},
     "output_type": "execute_result"
    },
    {
     "data": {
      "image/png": "[encoded data removed]",
      "text/plain": [
       "<Figure size 432x288 with 1 Axes>"
      ]
     },
     "metadata": {
      "needs_background": "light"
     },
     "output_type": "display_data"
    }
   ],
   "source": [
    "fig, axs = plt.subplots(ncols=1)\n",
    "sns.lineplot(x=rain_week_1week.index, y='precipitation in mm', data=rain_week_2week,lw=3)\n",
    "b = sns.lineplot(x=tweets_weekly.index, y='malaria instances', data=tweets_weekly, lw=3)\n",
    "b.set(xlabel='weeks', ylabel='malaria instance and precipitation in mm', title = \"trend in relation between malaria instance and precipitation records for 2 weeks before\")\n",
    "plt.legend(labels=['precipitation in mm','malaria instance'], facecolor='white')"
   ]
  },
  {
   "cell_type": "code",
   "execution_count": 94,
   "id": "8780eb75-c905-4aa4-843f-fb89b3cc702d",
   "metadata": {},
   "outputs": [
    {
     "name": "stderr",
     "output_type": "stream",
     "text": [
      "C:\\Users\\user\\anaconda3\\lib\\site-packages\\seaborn\\categorical.py:3717: UserWarning: The `factorplot` function has been renamed to `catplot`. The original name will be removed in a future release. Please update your code. Note that the default `kind` in `factorplot` (`'point'`) has changed `'strip'` in `catplot`.\n",
      "  warnings.warn(msg)\n"
     ]
    },
    {
     "data": {
      "image/png": "[encoded data removed]",
      "text/plain": [
       "<Figure size 493.625x360 with 1 Axes>"
      ]
     },
     "metadata": {
      "needs_background": "light"
     },
     "output_type": "display_data"
    }
   ],
   "source": [
    "e = sns.factorplot(x = 'months', y='value', \n",
    "               hue = 'variable',data=full1, linestyles=[\":\", \"-\"])\n",
    "e.set(title = \"trend in relation between malaria instance and precipitation records on the same month\")\n",
    "plt.show()"
   ]
  },
  {
   "cell_type": "markdown",
   "id": "63ef97ba-94f8-4016-9c81-82351bee2419",
   "metadata": {},
   "source": [
    "# The bar graph"
   ]
  },
  {
   "cell_type": "code",
   "execution_count": 95,
   "id": "b3517e6d-fd53-4639-b16b-903d3093e0db",
   "metadata": {},
   "outputs": [
    {
     "name": "stderr",
     "output_type": "stream",
     "text": [
      "C:\\Users\\user\\anaconda3\\lib\\site-packages\\seaborn\\categorical.py:3717: UserWarning: The `factorplot` function has been renamed to `catplot`. The original name will be removed in a future release. Please update your code. Note that the default `kind` in `factorplot` (`'point'`) has changed `'strip'` in `catplot`.\n",
      "  warnings.warn(msg)\n"
     ]
    },
    {
     "data": {
      "image/png": "[encoded data removed]",
      "text/plain": [
       "<Figure size 493.625x360 with 1 Axes>"
      ]
     },
     "metadata": {
      "needs_background": "light"
     },
     "output_type": "display_data"
    }
   ],
   "source": [
    "t =sns.factorplot(x = 'months', y='value', \n",
    "               hue = 'variable',data=full1, kind='bar')\n",
    "t.set(title = \"trend in relation between malaria instance and precipitation records on the same month\")\n",
    "plt.show()"
   ]
  },
  {
   "cell_type": "code",
   "execution_count": null,
   "id": "c3c03d0d-a7d3-4aab-915c-f6cf2edb6bfe",
   "metadata": {},
   "outputs": [],
   "source": []
  }
 ],
 "metadata": {
  "kernelspec": {
   "display_name": "Python 3 (ipykernel)",
   "language": "python",
   "name": "python3"
  },
  "language_info": {
   "codemirror_mode": {
    "name": "ipython",
    "version": 3
   },
   "file_extension": ".py",
   "mimetype": "text/x-python",
   "name": "python",
   "nbconvert_exporter": "python",
   "pygments_lexer": "ipython3",
   "version": "3.9.12"
  }
 },
 "nbformat": 4,
 "nbformat_minor": 5
}
