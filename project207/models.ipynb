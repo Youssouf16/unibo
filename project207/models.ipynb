{
 "cells": [
  {
   "cell_type": "code",
   "execution_count": 7,
   "id": "843e10d3-66a3-426e-a514-c6aa76b020f5",
   "metadata": {},
   "outputs": [
    {
     "name": "stderr",
     "output_type": "stream",
     "text": [
      "[nltk_data] Downloading package stopwords to\n",
      "[nltk_data]     C:\\Users\\user\\AppData\\Roaming\\nltk_data...\n",
      "[nltk_data]   Package stopwords is already up-to-date!\n",
      "[nltk_data] Downloading package wordnet to\n",
      "[nltk_data]     C:\\Users\\user\\AppData\\Roaming\\nltk_data...\n",
      "[nltk_data]   Package wordnet is already up-to-date!\n",
      "[nltk_data] Downloading package omw-1.4 to\n",
      "[nltk_data]     C:\\Users\\user\\AppData\\Roaming\\nltk_data...\n",
      "[nltk_data]   Package omw-1.4 is already up-to-date!\n",
      "[nltk_data] Downloading package stopwords to\n",
      "[nltk_data]     C:\\Users\\user\\AppData\\Roaming\\nltk_data...\n",
      "[nltk_data]   Package stopwords is already up-to-date!\n",
      "[nltk_data] Downloading package wordnet to\n",
      "[nltk_data]     C:\\Users\\user\\AppData\\Roaming\\nltk_data...\n",
      "[nltk_data]   Package wordnet is already up-to-date!\n",
      "[nltk_data] Downloading package omw-1.4 to\n",
      "[nltk_data]     C:\\Users\\user\\AppData\\Roaming\\nltk_data...\n",
      "[nltk_data]   Package omw-1.4 is already up-to-date!\n"
     ]
    },
    {
     "name": "stdout",
     "output_type": "stream",
     "text": [
      "Requirement already satisfied: xgboost in c:\\users\\user\\anaconda3\\lib\\site-packages (1.7.3)\n",
      "Requirement already satisfied: scipy in c:\\users\\user\\anaconda3\\lib\\site-packages (from xgboost) (1.7.3)\n",
      "Requirement already satisfied: numpy in c:\\users\\user\\anaconda3\\lib\\site-packages (from xgboost) (1.21.5)\n"
     ]
    }
   ],
   "source": [
    "%run Untitled22.ipynb\n",
    "!pip install xgboost"
   ]
  },
  {
   "cell_type": "markdown",
   "id": "0b808d0f-6088-4505-b006-ce453d5a7687",
   "metadata": {},
   "source": [
    "Importing libraries\n"
   ]
  },
  {
   "cell_type": "code",
   "execution_count": 50,
   "id": "1dcd0773-9bb2-48f3-8553-0ba857d2388e",
   "metadata": {},
   "outputs": [],
   "source": [
    "from sklearn.naive_bayes import GaussianNB\n",
    "import numpy as np\n",
    "import xgboost as xgb\n",
    "from sklearn.model_selection import KFold\n",
    "from sklearn.ensemble import RandomForestClassifier\n",
    "from sklearn import svm\n",
    "from sklearn.metrics import confusion_matrix\n"
   ]
  },
  {
   "cell_type": "markdown",
   "id": "5d07b8f5-5198-4370-9b31-bb1c13427284",
   "metadata": {},
   "source": [
    "## A function to calculate all mrequired metrics"
   ]
  },
  {
   "cell_type": "code",
   "execution_count": 9,
   "id": "b6deec50-84b6-4609-971b-b58ff6177250",
   "metadata": {},
   "outputs": [],
   "source": [
    "#metrics function\n",
    "\n",
    "def metrics(test,pred):\n",
    "        precision = precision_score(test[:], pred)\n",
    "        recall = recall_score(test[:], pred)\n",
    "        accuracy = accuracy_score(test[:], pred)\n",
    "        F1= ((2*recall*precision)/(recall+precision))\n",
    "        return precision, recall, accuracy, F1"
   ]
  },
  {
   "cell_type": "markdown",
   "id": "ccbf6123-50c6-4fb5-9a6c-410702d07f22",
   "metadata": {},
   "source": [
    "# NB model"
   ]
  },
  {
   "cell_type": "code",
   "execution_count": 10,
   "id": "433963c1-8547-4fa6-843c-66cd1152fb3b",
   "metadata": {},
   "outputs": [],
   "source": [
    "# Creating the Naive Bayes classifier\n",
    "nb = GaussianNB()"
   ]
  },
  {
   "cell_type": "code",
   "execution_count": 11,
   "id": "c576be84-c424-4a45-8ebe-ce7c4c830f78",
   "metadata": {},
   "outputs": [
    {
     "name": "stdout",
     "output_type": "stream",
     "text": [
      "Scores :  (0.5948275862068966, 0.7840909090909091, 0.7471264367816092, 0.6764705882352942)\n"
     ]
    }
   ],
   "source": [
    "# Fit the classifier to the data\n",
    "nb.fit(X_train, y_train)\n",
    "nb_pred = nb.predict(X_test)\n",
    "NB_score = metrics(y_test,nb_pred)\n",
    "NB_score\n",
    "# score of the NB test\n",
    "print(\"Scores : \", NB_score)"
   ]
  },
  {
   "cell_type": "markdown",
   "id": "63478251-5f54-4ed3-880b-03c6dc4475a9",
   "metadata": {},
   "source": [
    "# NB with CV"
   ]
  },
  {
   "cell_type": "code",
   "execution_count": 8,
   "id": "14202cbd-a0e4-42ee-8077-7b61d2399cb4",
   "metadata": {},
   "outputs": [
    {
     "name": "stdout",
     "output_type": "stream",
     "text": [
      "Scores :  [0.9197861  0.94385027 0.91176471 0.90641711 0.93582888]\n",
      "Accuracy : 0.92 (+/- 0.03)\n"
     ]
    }
   ],
   "source": [
    "scores = cross_val_score(nb, X, y, cv=5)\n",
    "\n",
    "# score of the nbcv test\n",
    "print(\"Scores : \", scores)\n",
    "\n",
    "# print accuracy\n",
    "print(\"Accuracy : %0.2f (+/- %0.2f)\" % (scores.mean(), scores.std() * 2))"
   ]
  },
  {
   "cell_type": "markdown",
   "id": "4fbe16b9-83aa-496c-9adf-6dc7f9b856c7",
   "metadata": {},
   "source": [
    "# Random forest model"
   ]
  },
  {
   "cell_type": "code",
   "execution_count": 57,
   "id": "d1c81696-f10a-4266-b220-8bb93b0cbb41",
   "metadata": {},
   "outputs": [
    {
     "name": "stdout",
     "output_type": "stream",
     "text": [
      "Scores :  (0.5507246376811594, 0.8636363636363636, 0.7164750957854407, 0.672566371681416)\n"
     ]
    }
   ],
   "source": [
    "# training random forest classifier \n",
    "rf = RandomForestClassifier(n_estimators=100)\n",
    "rf.fit(X_train, y_train)\n",
    "rf_pred = rf.predict(X_test)\n",
    "rf_score  = metrics(y_test,rf_pred)\n",
    "\n",
    "\n",
    "\n",
    "# score of the rf test\n",
    "print(\"Scores : \", rf_score)"
   ]
  },
  {
   "cell_type": "markdown",
   "id": "be92886a-8fa4-47ea-b06d-0de905de8c91",
   "metadata": {},
   "source": [
    "# Random forest with cv"
   ]
  },
  {
   "cell_type": "code",
   "execution_count": 10,
   "id": "7ba4c3ea-5dc1-4137-aa98-5d48ed3e18c7",
   "metadata": {},
   "outputs": [
    {
     "name": "stdout",
     "output_type": "stream",
     "text": [
      "Scores :  [0.8368984  0.88770053 0.8315508  0.81550802 0.86631016]\n",
      "Accuracy : 0.85 (+/- 0.05)\n"
     ]
    }
   ],
   "source": [
    "# random forest classifier with cross validation\n",
    "# training random forest classifier \n",
    "rf = RandomForestClassifier(n_estimators=100)\n",
    "scores = cross_val_score(rf, X, y, cv=5)\n",
    "\n",
    "# score of the rfcv test\n",
    "print(\"Scores : \", scores)\n",
    "\n",
    "# print accuracy\n",
    "print(\"Accuracy : %0.2f (+/- %0.2f)\" % (scores.mean(), scores.std() * 2))"
   ]
  },
  {
   "cell_type": "markdown",
   "id": "3e4d5a88-68d9-466e-940a-57523d83acb1",
   "metadata": {},
   "source": [
    "## SVM model"
   ]
  },
  {
   "cell_type": "code",
   "execution_count": 15,
   "id": "fa3c2ce9-6f59-4b86-afba-8fd2618be506",
   "metadata": {},
   "outputs": [
    {
     "name": "stdout",
     "output_type": "stream",
     "text": [
      "Scores :  (0.5655737704918032, 0.7840909090909091, 0.7241379310344828, 0.6571428571428571)\n"
     ]
    }
   ],
   "source": [
    "# training svm classifier SVM\n",
    "svm = svm.SVC(kernel='linear')\n",
    "svm.fit(X_train, y_train)\n",
    "svm_pred = svm.predict(X_test)\n",
    "svm_score  = metrics(y_test,svm_pred)\n",
    "\n",
    "# score of the svm test\n",
    "print(\"Scores : \", svm_score)\n"
   ]
  },
  {
   "cell_type": "markdown",
   "id": "3be09aaa-2012-42b0-8d2a-ceec97e0aeb6",
   "metadata": {},
   "source": [
    "# SVM with CV"
   ]
  },
  {
   "cell_type": "code",
   "execution_count": 17,
   "id": "56e154c1-4cb2-4821-ab82-24c27a27f9af",
   "metadata": {},
   "outputs": [
    {
     "name": "stdout",
     "output_type": "stream",
     "text": [
      "Scores :  [0.7991453  0.91880342 0.86752137 0.86752137 0.88034188 0.84615385\n",
      " 0.87982833 0.89270386]\n",
      "Accuracy : 0.87 (+/- 0.07)\n"
     ]
    }
   ],
   "source": [
    "# training SVM with cv\n",
    "scores = cross_val_score(svm, X, y, cv=8)\n",
    "\n",
    "# scores\n",
    "print(\"Scores : \", scores)\n",
    "\n",
    "# scrores with sd\n",
    "print(\"Accuracy : %0.2f (+/- %0.2f)\" % (scores.mean(), scores.std() * 2))"
   ]
  },
  {
   "cell_type": "markdown",
   "id": "8751bd80-f209-4a5e-a982-33939701aaf7",
   "metadata": {},
   "source": [
    "# XGB model"
   ]
  },
  {
   "cell_type": "code",
   "execution_count": 51,
   "id": "6bd9f832-9f3a-47cd-8c26-c2e547282fde",
   "metadata": {},
   "outputs": [],
   "source": [
    "# convert format to DMatrix for XGBoost\n",
    "dtrain = xgb.DMatrix(X_train, label=y_train)\n",
    "dtest = xgb.DMatrix(X_test, label=y_test)\n",
    "\n",
    "# Definig parameters for XGBoost\n",
    "params = {\n",
    "    \"objective\": \"binary:logistic\",\n",
    "    \"booster\": \"gbtree\",\n",
    "    \"eval_metric\": \"error\",\n",
    "    \"eta\": 0.1,\n",
    "    \"max_depth\": 10,\n",
    "    \"subsample\": 0.8,\n",
    "    \"colsample_bytree\": 0.8,\n",
    "    \"seed\": 123\n",
    "}\n",
    "\n",
    "# training XGBoost model\n",
    "xgb = xgb.train(params, dtrain, num_boost_round=100)\n",
    "\n",
    "# predicting on testset\n",
    "xgb_pred1 = xgb.predict(dtest)\n",
    "xgb_pred = [round(value) for value in xgb_pred1]\n",
    "\n",
    "\n"
   ]
  },
  {
   "cell_type": "code",
   "execution_count": 52,
   "id": "e178d490-e555-4a2d-ba08-372741f6e4e9",
   "metadata": {},
   "outputs": [
    {
     "data": {
      "text/plain": [
       "(0.5892857142857143, 0.75, 0.7394636015325671, 0.6599999999999999)"
      ]
     },
     "execution_count": 52,
     "metadata": {},
     "output_type": "execute_result"
    }
   ],
   "source": [
    "xgb_score = metrics(y_test,xgb_pred)\n",
    "xgb_score"
   ]
  },
  {
   "cell_type": "markdown",
   "id": "72060d87-0d41-4fa5-bf8a-4844d0a49c3e",
   "metadata": {},
   "source": [
    "## Confusion matrix for binary classification"
   ]
  },
  {
   "cell_type": "markdown",
   "id": "bb09834d-e4a4-4479-bb22-91db79c70639",
   "metadata": {},
   "source": [
    "xgb"
   ]
  },
  {
   "cell_type": "code",
   "execution_count": 53,
   "id": "9a49a057-444b-4aba-8edc-a78256a91964",
   "metadata": {},
   "outputs": [
    {
     "name": "stdout",
     "output_type": "stream",
     "text": [
      "Confusion matrix:\n",
      "[[127  46]\n",
      " [ 22  66]]\n"
     ]
    }
   ],
   "source": [
    "\n",
    "# Calculate the confusion matrix\n",
    "cm = confusion_matrix(y_test, xgb_pred)\n",
    "print(\"Confusion matrix:\")\n",
    "print(cm)"
   ]
  },
  {
   "cell_type": "markdown",
   "id": "6dd273aa-0441-44ed-9d33-567f42e498ee",
   "metadata": {},
   "source": [
    "NB"
   ]
  },
  {
   "cell_type": "code",
   "execution_count": 54,
   "id": "f18baf10-d134-4315-9128-5969a2ab8c20",
   "metadata": {},
   "outputs": [
    {
     "name": "stdout",
     "output_type": "stream",
     "text": [
      "Confusion matrix:\n",
      "[[126  47]\n",
      " [ 19  69]]\n"
     ]
    }
   ],
   "source": [
    "# Calculate the confusion matrix\n",
    "cm = confusion_matrix(y_test, nb_pred)\n",
    "print(\"Confusion matrix:\")\n",
    "print(cm)"
   ]
  },
  {
   "cell_type": "markdown",
   "id": "8cac9ee6-f721-4ab0-bfd1-6034192a86ec",
   "metadata": {},
   "source": [
    "random forest"
   ]
  },
  {
   "cell_type": "code",
   "execution_count": 58,
   "id": "d646554f-5d76-4229-bb45-ca9446b34388",
   "metadata": {},
   "outputs": [
    {
     "name": "stdout",
     "output_type": "stream",
     "text": [
      "Confusion matrix:\n",
      "[[111  62]\n",
      " [ 12  76]]\n"
     ]
    }
   ],
   "source": [
    "# Calculate the confusion matrix\n",
    "cm = confusion_matrix(y_test, rf_pred)\n",
    "print(\"Confusion matrix:\")\n",
    "print(cm)"
   ]
  },
  {
   "cell_type": "markdown",
   "id": "9953e7b5-b826-4053-b199-db48d4e13c92",
   "metadata": {},
   "source": [
    "svm"
   ]
  },
  {
   "cell_type": "code",
   "execution_count": 59,
   "id": "7341d3c9-0078-4d87-a239-9ee32297adfe",
   "metadata": {},
   "outputs": [
    {
     "name": "stdout",
     "output_type": "stream",
     "text": [
      "Confusion matrix:\n",
      "[[120  53]\n",
      " [ 19  69]]\n"
     ]
    }
   ],
   "source": [
    "# Calculate the confusion matrix\n",
    "cm = confusion_matrix(y_test, svm_pred)\n",
    "print(\"Confusion matrix:\")\n",
    "print(cm)"
   ]
  }
 ],
 "metadata": {
  "kernelspec": {
   "display_name": "Python 3 (ipykernel)",
   "language": "python",
   "name": "python3"
  },
  "language_info": {
   "codemirror_mode": {
    "name": "ipython",
    "version": 3
   },
   "file_extension": ".py",
   "mimetype": "text/x-python",
   "name": "python",
   "nbconvert_exporter": "python",
   "pygments_lexer": "ipython3",
   "version": "3.9.12"
  }
 },
 "nbformat": 4,
 "nbformat_minor": 5
}
