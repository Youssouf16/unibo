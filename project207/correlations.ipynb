{
 "cells": [
  {
   "cell_type": "code",
   "execution_count": null,
   "metadata": {},
   "outputs": [],
   "source": [
    "import pandas as pd\n",
    "\n",
    "data = pd.read_csv('data/rain_data.csv', index_col=0)\n",
    "data_tw = pd.read_csv('data/tweet_df_class.csv', index_col=0)\n",
    "\n",
    "data.index = pd.to_datetime(data.index)\n",
    "data_tw = data_tw.set_index('Datetime')\n",
    "data_tw.index = pd.to_datetime(data_tw.index).date.astype('datetime64')"
   ]
  },
  {
   "cell_type": "code",
   "execution_count": null,
   "metadata": {},
   "outputs": [],
   "source": [
    "tweets = data_tw['class'].truncate(before='2022-03-29')\n",
    "rain = data\n",
    "tweets_weekly = tweets.resample('W').sum()\n",
    "rain_weekly = rain.resample('W').mean()"
   ]
  }
 ],
 "metadata": {
  "kernelspec": {
   "display_name": "Python 3",
   "language": "python",
   "name": "python3"
  },
  "language_info": {
   "codemirror_mode": {
    "name": "ipython",
    "version": 3
   },
   "file_extension": ".py",
   "mimetype": "text/x-python",
   "name": "python",
   "nbconvert_exporter": "python",
   "pygments_lexer": "ipython3",
   "version": "3.10.4"
  },
  "orig_nbformat": 4,
  "vscode": {
   "interpreter": {
    "hash": "67783390838d2e02912aac04d405c75735cc05868bfeaabbe6ec2bbdb2e2542d"
   }
  }
 },
 "nbformat": 4,
 "nbformat_minor": 2
}
